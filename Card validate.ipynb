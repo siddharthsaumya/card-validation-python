{
 "cells": [
  {
   "cell_type": "code",
   "execution_count": 14,
   "id": "484c837c",
   "metadata": {},
   "outputs": [],
   "source": [
    "def company(x):\n",
    "    l = len(x)\n",
    "    two = int(x[0:2])\n",
    "    four = int(x[0:4])\n",
    "    if two == 60 or four == 6521 or four == 6522 and l == 16:\n",
    "        return \"rupay\"\n",
    "    elif x[0] == '4' and l >= 13 or l <= 16:\n",
    "        return \"visa\"\n",
    "    elif four >= 2221 and four <= 2720 or two >= 51 and two <= 55 and l == 16:\n",
    "        return \"mastercard\"\n",
    "    elif two >= 34 and two <= 37 and l == 15:\n",
    "        return \"americanexpress\"\n",
    "    else:\n",
    "        return \"other\""
   ]
  },
  {
   "cell_type": "code",
   "execution_count": 15,
   "id": "a6c0d521",
   "metadata": {},
   "outputs": [],
   "source": [
    "def double(lst):\n",
    "    return [i*2 for i in lst]\n",
    "\n",
    "def single(x):\n",
    "    a = x%10\n",
    "    b = int(x/10)\n",
    "    if a+b <= 9:\n",
    "        return a+b\n",
    "    else:\n",
    "        return single(a+b)\n",
    "\n",
    "def validity(x):\n",
    "    a_num = [] \n",
    "    b_num = []\n",
    "    a_num.append(int(x[0]))\n",
    "    b_num.append(int(x[1]))\n",
    "    for i in range(2,len(x)):\n",
    "        if i%2==0:\n",
    "            a_num.append(int(x[i]))\n",
    "        else:\n",
    "            b_num.append(int(x[i]))\n",
    "    a_num = double(a_num)\n",
    "    \n",
    "    for i in range(0,len(a_num)):\n",
    "        if a_num[i] > 9:\n",
    "            a_num[i] = single(a_num[i])\n",
    "            \n",
    "    ans = sum(a_num) + sum(b_num)\n",
    "    if ans%10 == 0:\n",
    "        return True\n",
    "    else:\n",
    "        return False"
   ]
  },
  {
   "cell_type": "code",
   "execution_count": 16,
   "id": "c0fb302d",
   "metadata": {},
   "outputs": [],
   "source": [
    "def validate(x):\n",
    "    temp = x.replace(\" \", \"\")\n",
    "    info = dict()\n",
    "    info[\"issuer\"] = company(temp)\n",
    "    info[\"valid\"] = validity(temp)\n",
    "    print(info)"
   ]
  },
  {
   "cell_type": "code",
   "execution_count": 20,
   "id": "d06b0100",
   "metadata": {
    "scrolled": true
   },
   "outputs": [
    {
     "name": "stdout",
     "output_type": "stream",
     "text": [
      "Enter your card number: 6522287484005847\n",
      "{'issuer': 'rupay', 'valid': True}\n"
     ]
    }
   ],
   "source": [
    "n = input(\"Enter your card number: \")\n",
    "validate(n)"
   ]
  }
 ],
 "metadata": {
  "kernelspec": {
   "display_name": "Python 3 (ipykernel)",
   "language": "python",
   "name": "python3"
  },
  "language_info": {
   "codemirror_mode": {
    "name": "ipython",
    "version": 3
   },
   "file_extension": ".py",
   "mimetype": "text/x-python",
   "name": "python",
   "nbconvert_exporter": "python",
   "pygments_lexer": "ipython3",
   "version": "3.9.7"
  }
 },
 "nbformat": 4,
 "nbformat_minor": 5
}
